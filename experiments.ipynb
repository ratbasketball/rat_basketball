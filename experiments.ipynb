{
 "cells": [
  {
   "cell_type": "markdown",
   "metadata": {},
   "source": [
    "## Simulate a webcam that will replay the previous x seconds of recording after a basket.  Works on windows, must modify for pi.  "
   ]
  },
  {
   "cell_type": "code",
   "execution_count": null,
   "metadata": {},
   "outputs": [
    {
     "name": "stdout",
     "output_type": "stream",
     "text": [
      "pygame 2.6.1 (SDL 2.28.4, Python 3.13.0)\n",
      "Hello from the pygame community. https://www.pygame.org/contribute.html\n",
      "Detecting cameras...\n",
      "Camera 0: AVAILABLE\n",
      "Camera 1: AVAILABLE\n",
      "Camera 2: AVAILABLE\n",
      "Camera 3: NOT AVAILABLE\n",
      "Camera 4: NOT AVAILABLE\n",
      "Camera 5: NOT AVAILABLE\n",
      "Camera 6: NOT AVAILABLE\n",
      "Camera 7: NOT AVAILABLE\n",
      "Camera 8: NOT AVAILABLE\n",
      "Camera 9: NOT AVAILABLE\n",
      "Instant Replay for Camera 0!\n",
      "Instant Replay for Camera 0!\n",
      "Instant Replay for Camera 0!\n",
      "Instant Replay for Camera 0!\n",
      "Instant Replay for Camera 0!\n",
      "Not enough frames for replay. Returning to live feed.\n",
      "Instant Replay for Camera 0!\n",
      "Not enough frames for replay. Returning to live feed.\n",
      "Instant Replay for Camera 0!\n",
      "Not enough frames for replay. Returning to live feed.\n",
      "Instant Replay for Camera 0!\n",
      "Not enough frames for replay. Returning to live feed.\n",
      "Instant Replay for Camera 0!\n",
      "Not enough frames for replay. Returning to live feed.\n",
      "Instant Replay for Camera 0!\n",
      "Not enough frames for replay. Returning to live feed.\n",
      "Instant Replay for Camera 0!\n",
      "Not enough frames for replay. Returning to live feed.\n",
      "Instant Replay for Camera 0!\n",
      "Not enough frames for replay. Returning to live feed.\n",
      "Instant Replay for Camera 0!\n",
      "Instant Replay for Camera 0!\n",
      "Not enough frames for replay. Returning to live feed.\n",
      "Instant Replay for Camera 0!\n",
      "Instant Replay for Camera 0!\n",
      "Instant Replay for Camera 0!\n",
      "Instant Replay for Camera 0!\n",
      "Instant Replay for Camera 0!\n",
      "Instant Replay for Camera 0!\n",
      "Instant Replay for Camera 0!\n",
      "Not enough frames for replay. Returning to live feed.\n"
     ]
    }
   ],
   "source": [
    "import pygame\n",
    "import cv2\n",
    "import time\n",
    "from collections import deque\n",
    "\n",
    "# Constants\n",
    "WINDOW_WIDTH, WINDOW_HEIGHT = 640, 480\n",
    "FPS = 30\n",
    "REPLAY_DURATION = 2  # seconds\n",
    "MAX_FRAMES = REPLAY_DURATION * FPS  # Ensure buffer holds enough frames for the replay duration\n",
    "MAX_CAMERAS = 10\n",
    "\n",
    "def list_cameras():\n",
    "    \"\"\"\n",
    "    List all available cameras and print their information.\n",
    "    Returns a list of available camera indices.\n",
    "    \"\"\"\n",
    "    print(\"Detecting cameras...\")\n",
    "    available_cameras = []\n",
    "    for i in range(MAX_CAMERAS):\n",
    "        cap = cv2.VideoCapture(i)\n",
    "        if cap.isOpened():\n",
    "            print(f\"Camera {i}: AVAILABLE\")\n",
    "            available_cameras.append(i)\n",
    "            cap.release()\n",
    "        else:\n",
    "            print(f\"Camera {i}: NOT AVAILABLE\")\n",
    "    return available_cameras\n",
    "\n",
    "def main():\n",
    "    pygame.init()\n",
    "    available_cameras = list_cameras()\n",
    "    if not available_cameras:\n",
    "        print(\"No cameras detected. Exiting.\")\n",
    "        return\n",
    "\n",
    "    screen = pygame.display.set_mode((WINDOW_WIDTH, WINDOW_HEIGHT))\n",
    "    pygame.display.set_caption(\"Instant Replay\")\n",
    "    clock = pygame.time.Clock()\n",
    "    font = pygame.font.Font(None, 36)  # Default font for \"Instant Replay\" text\n",
    "    countdown_font = pygame.font.Font(None, 28)  # Smaller font for the countdown timer\n",
    "\n",
    "    # Initialize video capture for each available camera\n",
    "    cameras = {}\n",
    "    buffers = {}\n",
    "    for cam_index in available_cameras:\n",
    "        cap = cv2.VideoCapture(cam_index)\n",
    "        cap.set(cv2.CAP_PROP_FRAME_WIDTH, WINDOW_WIDTH)\n",
    "        cap.set(cv2.CAP_PROP_FRAME_HEIGHT, WINDOW_HEIGHT)\n",
    "        cameras[cam_index] = cap\n",
    "        buffers[cam_index] = deque(maxlen=MAX_FRAMES)\n",
    "\n",
    "    active_camera = available_cameras[0]\n",
    "    replaying = False\n",
    "    replay_start_time = 0\n",
    "    replay_end_time = 0\n",
    "\n",
    "    running = True\n",
    "    while running:\n",
    "        for event in pygame.event.get():\n",
    "            if event.type == pygame.QUIT:\n",
    "                running = False\n",
    "            elif event.type == pygame.KEYDOWN:\n",
    "                if event.unicode.isdigit():\n",
    "                    cam_number = int(event.unicode)\n",
    "                    if cam_number in cameras:\n",
    "                        print(f\"Switched to Camera {cam_number}\")\n",
    "                        active_camera = cam_number\n",
    "                elif event.key == pygame.K_r:\n",
    "                    print(f\"Instant Replay for Camera {active_camera}!\")\n",
    "                    replaying = True\n",
    "                    replay_start_time = time.time()\n",
    "                    replay_end_time = replay_start_time + REPLAY_DURATION\n",
    "\n",
    "        screen.fill((0, 0, 0))  # Clear the screen with a black background\n",
    "\n",
    "        if replaying:\n",
    "            # Replay the buffered frames for the active camera\n",
    "            elapsed = time.time() - replay_start_time\n",
    "            remaining_time = replay_end_time - time.time()\n",
    "\n",
    "            if remaining_time > 0:\n",
    "                frame_index = int(elapsed * FPS)\n",
    "\n",
    "                # Check if we have enough frames in the buffer\n",
    "                if frame_index < len(buffers[active_camera]):\n",
    "                    frame = buffers[active_camera][frame_index]\n",
    "                    frame = cv2.cvtColor(frame, cv2.COLOR_BGR2RGB)\n",
    "                    pygame_frame = pygame.surfarray.make_surface(frame.swapaxes(0, 1))\n",
    "                    screen.blit(pygame_frame, (0, 0))\n",
    "\n",
    "                    # Render countdown timer in the lower-right corner\n",
    "                    countdown_surface = countdown_font.render(f\"{int(remaining_time)}s left\", True, (255, 255, 255))\n",
    "                    screen.blit(countdown_surface, (WINDOW_WIDTH - 100, WINDOW_HEIGHT - 40))\n",
    "\n",
    "                else:\n",
    "                    # If not enough frames, stop replay and return to live feed\n",
    "                    print(\"Exhausted frame buffer!  Returning to live feed.\")\n",
    "                    replaying = False  # End replay\n",
    "                    buffers[active_camera].clear()  # Clear the buffer to stop further playback\n",
    "                    # Optionally, reset the replay start and end times to prepare for next replay\n",
    "                    replay_start_time = 0\n",
    "                    replay_end_time = 0\n",
    "\n",
    "            else:\n",
    "                # End the replay when time is over\n",
    "                replaying = False\n",
    "                buffers[active_camera].clear()  # Clear the buffer to stop further playback\n",
    "\n",
    "\n",
    "        else:\n",
    "            # Regular capture and buffering for the active camera\n",
    "            for cam_index, cap in cameras.items():\n",
    "                ret, frame = cap.read()\n",
    "                if ret:\n",
    "                    buffers[cam_index].append(frame)\n",
    "                    if cam_index == active_camera:\n",
    "                        # Display only the active camera's feed\n",
    "                        frame = cv2.cvtColor(frame, cv2.COLOR_BGR2RGB)\n",
    "                        pygame_frame = pygame.surfarray.make_surface(frame.swapaxes(0, 1))\n",
    "                        screen.blit(pygame_frame, (0, 0))\n",
    "\n",
    "        if not replaying:\n",
    "            # Render \"Instant Replay\" text after the video feed if not replaying\n",
    "            text_surface = font.render(f\"Instant Replay - Camera {active_camera}\", True, (255, 255, 255))\n",
    "            screen.blit(text_surface, (10, 10))\n",
    "\n",
    "        pygame.display.flip()\n",
    "        clock.tick(FPS)\n",
    "\n",
    "    # Release all cameras\n",
    "    for cap in cameras.values():\n",
    "        cap.release()\n",
    "    pygame.quit()\n",
    "\n",
    "\n",
    "if __name__ == \"__main__\":\n",
    "    main()"
   ]
  },
  {
   "cell_type": "markdown",
   "metadata": {},
   "source": [
    "## We can use ws2812b led panels for the feedback lights.  This will remove the relay  noise and allow customizable colors!"
   ]
  },
  {
   "cell_type": "code",
   "execution_count": 4,
   "metadata": {},
   "outputs": [
    {
     "data": {
      "application/vnd.jupyter.widget-view+json": {
       "model_id": "39384649285241e084e3d0578a5e11e2",
       "version_major": 2,
       "version_minor": 0
      },
      "text/plain": [
       "Dropdown(description='Port:', options=('COM1', 'COM16'), value='COM1')"
      ]
     },
     "metadata": {},
     "output_type": "display_data"
    },
    {
     "data": {
      "application/vnd.jupyter.widget-view+json": {
       "model_id": "8cda489b6e78494e8dfc2e26b2e8c027",
       "version_major": 2,
       "version_minor": 0
      },
      "text/plain": [
       "Button(description='Connect', style=ButtonStyle())"
      ]
     },
     "metadata": {},
     "output_type": "display_data"
    },
    {
     "data": {
      "application/vnd.jupyter.widget-view+json": {
       "model_id": "447da5c83d6b444bb8ab30b498c1e79e",
       "version_major": 2,
       "version_minor": 0
      },
      "text/plain": [
       "Dropdown(description='Panel:', options=(('Panel 1', 1), ('Panel 2', 2)), value=1)"
      ]
     },
     "metadata": {},
     "output_type": "display_data"
    },
    {
     "data": {
      "application/vnd.jupyter.widget-view+json": {
       "model_id": "bd248aaaa5584715951177336a0ec6ee",
       "version_major": 2,
       "version_minor": 0
      },
      "text/plain": [
       "IntText(value=255, description='Red:')"
      ]
     },
     "metadata": {},
     "output_type": "display_data"
    },
    {
     "data": {
      "application/vnd.jupyter.widget-view+json": {
       "model_id": "9ecec6b66dd64b62a8261158ba40dc5c",
       "version_major": 2,
       "version_minor": 0
      },
      "text/plain": [
       "IntText(value=0, description='Green:')"
      ]
     },
     "metadata": {},
     "output_type": "display_data"
    },
    {
     "data": {
      "application/vnd.jupyter.widget-view+json": {
       "model_id": "994ab00b1652476290b6b934fcbbb0d1",
       "version_major": 2,
       "version_minor": 0
      },
      "text/plain": [
       "IntText(value=0, description='Blue:')"
      ]
     },
     "metadata": {},
     "output_type": "display_data"
    },
    {
     "data": {
      "application/vnd.jupyter.widget-view+json": {
       "model_id": "7205d466fb1c441db741188fefc97f5b",
       "version_major": 2,
       "version_minor": 0
      },
      "text/plain": [
       "IntSlider(value=25, description='Brightness:', max=255, step=15)"
      ]
     },
     "metadata": {},
     "output_type": "display_data"
    },
    {
     "data": {
      "application/vnd.jupyter.widget-view+json": {
       "model_id": "f3b4a28bf64f43bf873a22ea9e86b138",
       "version_major": 2,
       "version_minor": 0
      },
      "text/plain": [
       "IntText(value=1000, description='Duration (ms):')"
      ]
     },
     "metadata": {},
     "output_type": "display_data"
    },
    {
     "data": {
      "application/vnd.jupyter.widget-view+json": {
       "model_id": "47637bebaed64cf9a5ddc1a71381ceed",
       "version_major": 2,
       "version_minor": 0
      },
      "text/plain": [
       "Button(description='Send Command', style=ButtonStyle())"
      ]
     },
     "metadata": {},
     "output_type": "display_data"
    },
    {
     "data": {
      "application/vnd.jupyter.widget-view+json": {
       "model_id": "5b7c48b73e1f4641994217f5980587cf",
       "version_major": 2,
       "version_minor": 0
      },
      "text/plain": [
       "Label(value='Not connected')"
      ]
     },
     "metadata": {},
     "output_type": "display_data"
    },
    {
     "data": {
      "application/vnd.jupyter.widget-view+json": {
       "model_id": "8c887fe367124ecc974c9c55422562a3",
       "version_major": 2,
       "version_minor": 0
      },
      "text/plain": [
       "Label(value='Last Command: None')"
      ]
     },
     "metadata": {},
     "output_type": "display_data"
    }
   ],
   "source": [
    "import serial\n",
    "import serial.tools.list_ports\n",
    "import ipywidgets as widgets\n",
    "from IPython.display import display\n",
    "\n",
    "# Global variable for the serial connection\n",
    "arduino = None\n",
    "\n",
    "# Function to list available serial ports\n",
    "def list_com_ports():\n",
    "    ports = list(serial.tools.list_ports.comports())\n",
    "    return [port.device for port in ports]\n",
    "\n",
    "# Function to send data to Arduino\n",
    "def send_data(btn):\n",
    "    global arduino\n",
    "    if arduino and arduino.is_open:\n",
    "        panel = panel_dropdown.value\n",
    "        r = int(r_input.value)\n",
    "        g = int(g_input.value)\n",
    "        b = int(b_input.value)\n",
    "        brightness = int(brightness_input.value)\n",
    "        duration = int(duration_input.value)\n",
    "\n",
    "        command = f\"panel {panel} {r} {g} {b} {brightness} {duration}\\n\"\n",
    "        arduino.write(command.encode())  # Send the command to Arduino\n",
    "        last_sent_command_widget.value = f\"Last Command: {command.strip()}\"\n",
    "    else:\n",
    "        last_sent_command_widget.value = \"Error: Arduino not connected.\"\n",
    "\n",
    "# Function to handle port selection and connect\n",
    "def connect_to_arduino(btn):\n",
    "    global arduino\n",
    "    port = port_dropdown.value\n",
    "    try:\n",
    "        if arduino and arduino.is_open:\n",
    "            arduino.close()  # Close previous connection\n",
    "        arduino = serial.Serial(port, 9600, timeout=1)  # Open serial connection\n",
    "        connection_status_widget.value = f\"Connected to {port}\"\n",
    "    except Exception as e:\n",
    "        connection_status_widget.value = f\"Error connecting to {port}: {str(e)}\"\n",
    "\n",
    "# Create the widgets\n",
    "port_dropdown = widgets.Dropdown(\n",
    "    options=list_com_ports(),\n",
    "    description='Port:',\n",
    ")\n",
    "\n",
    "connect_button = widgets.Button(description=\"Connect\")\n",
    "connect_button.on_click(connect_to_arduino)\n",
    "\n",
    "panel_dropdown = widgets.Dropdown(\n",
    "    options=[(f\"Panel {i+1}\", i+1) for i in range(2)],\n",
    "    description='Panel:',\n",
    ")\n",
    "\n",
    "r_input = widgets.IntText(value=255, description='Red:', min=0, max=255)\n",
    "g_input = widgets.IntText(value=0, description='Green:', min=0, max=255)\n",
    "b_input = widgets.IntText(value=0, description='Blue:', min=0, max=255)\n",
    "brightness_input = widgets.IntSlider(value=25, description='Brightness:', min=0, max=255, step= 15)\n",
    "duration_input = widgets.IntText(value=1000, description='Duration (ms):', min=1)\n",
    "\n",
    "send_button = widgets.Button(description=\"Send Command\")\n",
    "send_button.on_click(send_data)\n",
    "\n",
    "# Display widgets for connection status and last sent command\n",
    "connection_status_widget = widgets.Label(value=\"Not connected\")\n",
    "last_sent_command_widget = widgets.Label(value=\"Last Command: None\")\n",
    "\n",
    "# Display all the widgets\n",
    "display(port_dropdown, connect_button, panel_dropdown, r_input, g_input, b_input, brightness_input, duration_input, send_button, connection_status_widget, last_sent_command_widget)"
   ]
  },
  {
   "cell_type": "code",
   "execution_count": null,
   "metadata": {},
   "outputs": [
    {
     "data": {
      "application/vnd.jupyter.widget-view+json": {
       "model_id": "2a9ac863dc424a38bf70798e4373790b",
       "version_major": 2,
       "version_minor": 0
      },
      "text/plain": [
       "Dropdown(description='Port:', options=('COM1', 'COM16'), value='COM1')"
      ]
     },
     "metadata": {},
     "output_type": "display_data"
    },
    {
     "data": {
      "application/vnd.jupyter.widget-view+json": {
       "model_id": "0110b7c9f22249729d0b3519b3b7aebc",
       "version_major": 2,
       "version_minor": 0
      },
      "text/plain": [
       "Button(description='Connect', style=ButtonStyle())"
      ]
     },
     "metadata": {},
     "output_type": "display_data"
    },
    {
     "data": {
      "application/vnd.jupyter.widget-view+json": {
       "model_id": "9c5db2363f6b4823ab9de553e9da758d",
       "version_major": 2,
       "version_minor": 0
      },
      "text/plain": [
       "Label(value='Not connected')"
      ]
     },
     "metadata": {},
     "output_type": "display_data"
    },
    {
     "data": {
      "application/vnd.jupyter.widget-view+json": {
       "model_id": "561cdaad2f67434dbc13109aaab79965",
       "version_major": 2,
       "version_minor": 0
      },
      "text/plain": [
       "HBox(children=(VBox(children=(IntText(value=255, description='Red:', step=15), IntText(value=0, description='G…"
      ]
     },
     "metadata": {},
     "output_type": "display_data"
    }
   ],
   "source": [
    "import serial\n",
    "import serial.tools.list_ports\n",
    "import ipywidgets as widgets\n",
    "from IPython.display import display\n",
    "\n",
    "# Global variable for the serial connection\n",
    "arduino = None\n",
    "\n",
    "# Function to list available serial ports\n",
    "def list_com_ports():\n",
    "    ports = list(serial.tools.list_ports.comports())\n",
    "    return [port.device for port in ports]\n",
    "\n",
    "# Function to send data to Arduino\n",
    "def send_data(panel, btn):\n",
    "    global arduino\n",
    "    if arduino and arduino.is_open:\n",
    "        r = int(panel['r_input'].value)\n",
    "        g = int(panel['g_input'].value)\n",
    "        b = int(panel['b_input'].value)\n",
    "        brightness = int(panel['brightness_input'].value)\n",
    "        duration = int(panel['duration_input'].value)\n",
    "\n",
    "        command = f\"panel {panel['id']} {r} {g} {b} {brightness} {duration}\\n\"\n",
    "        arduino.write(command.encode())  # Send the command to Arduino\n",
    "        panel['last_sent_command_widget'].value = f\"Last Command: {command.strip()}\"\n",
    "    else:\n",
    "        panel['last_sent_command_widget'].value = \"Error: Arduino not connected.\"\n",
    "\n",
    "# Function to handle port selection and connect\n",
    "def connect_to_arduino(btn):\n",
    "    global arduino\n",
    "    port = port_dropdown.value\n",
    "    try:\n",
    "        if arduino and arduino.is_open:\n",
    "            arduino.close()  # Close previous connection\n",
    "        arduino = serial.Serial(port, 9600, timeout=1)  # Open serial connection\n",
    "        connection_status_widget.value = f\"Connected to {port}\"\n",
    "    except Exception as e:\n",
    "        connection_status_widget.value = f\"Error connecting to {port}: {str(e)}\"\n",
    "\n",
    "# Create the widgets for Panel 1 and Panel 2\n",
    "def create_panel_widgets(panel_id):\n",
    "    return {\n",
    "        'id': panel_id,\n",
    "        'r_input': widgets.IntText(value=255, description='Red:', min=0, max=255, step= 15),\n",
    "        'g_input': widgets.IntText(value=0, description='Green:', min=0, max=255, step= 15),\n",
    "        'b_input': widgets.IntText(value=0, description='Blue:', min=0, max=255, step= 15),\n",
    "        'brightness_input': widgets.IntSlider(value=30, description='Brightness:', min=0, max=255, step= 15),\n",
    "        'duration_input': widgets.IntText(value=1000, description='Duration (ms):', min=1, step=100),\n",
    "        'send_button': widgets.Button(description=\"Send Command\"),\n",
    "        'last_sent_command_widget': widgets.Label(value=\"Last Command: None\")\n",
    "    }\n",
    "\n",
    "# Create the widgets\n",
    "port_dropdown = widgets.Dropdown(\n",
    "    options=list_com_ports(),\n",
    "    description='Port:',\n",
    ")\n",
    "\n",
    "connect_button = widgets.Button(description=\"Connect\")\n",
    "connect_button.on_click(connect_to_arduino)\n",
    "\n",
    "connection_status_widget = widgets.Label(value=\"Not connected\")\n",
    "\n",
    "# Panel 1 widgets\n",
    "panel_1_widgets = create_panel_widgets(1)\n",
    "panel_1_widgets['send_button'].on_click(lambda btn: send_data(panel_1_widgets, btn))\n",
    "\n",
    "# Panel 2 widgets\n",
    "panel_2_widgets = create_panel_widgets(2)\n",
    "panel_2_widgets['send_button'].on_click(lambda btn: send_data(panel_2_widgets, btn))\n",
    "\n",
    "# Layout for Panel 1 and Panel 2 side by side\n",
    "panel_1_layout = widgets.VBox([\n",
    "    panel_1_widgets['r_input'],\n",
    "    panel_1_widgets['g_input'],\n",
    "    panel_1_widgets['b_input'],\n",
    "    panel_1_widgets['brightness_input'],\n",
    "    panel_1_widgets['duration_input'],\n",
    "    panel_1_widgets['send_button'],\n",
    "    panel_1_widgets['last_sent_command_widget']\n",
    "])\n",
    "\n",
    "panel_2_layout = widgets.VBox([\n",
    "    panel_2_widgets['r_input'],\n",
    "    panel_2_widgets['g_input'],\n",
    "    panel_2_widgets['b_input'],\n",
    "    panel_2_widgets['brightness_input'],\n",
    "    panel_2_widgets['duration_input'],\n",
    "    panel_2_widgets['send_button'],\n",
    "    panel_2_widgets['last_sent_command_widget']\n",
    "])\n",
    "\n",
    "# Combine panel 1 and panel 2 in side-by-side layout\n",
    "panels_layout = widgets.HBox([panel_1_layout, panel_2_layout])\n",
    "\n",
    "# Display all widgets\n",
    "display(port_dropdown, connect_button, connection_status_widget, panels_layout)"
   ]
  }
 ],
 "metadata": {
  "kernelspec": {
   "display_name": "Python 3",
   "language": "python",
   "name": "python3"
  },
  "language_info": {
   "codemirror_mode": {
    "name": "ipython",
    "version": 3
   },
   "file_extension": ".py",
   "mimetype": "text/x-python",
   "name": "python",
   "nbconvert_exporter": "python",
   "pygments_lexer": "ipython3",
   "version": "3.13.0"
  }
 },
 "nbformat": 4,
 "nbformat_minor": 2
}
